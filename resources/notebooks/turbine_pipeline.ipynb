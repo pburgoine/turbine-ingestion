{
 "cells": [
  {
   "cell_type": "markdown",
   "metadata": {
    "application/vnd.databricks.v1+cell": {
     "cellMetadata": {},
     "inputWidgets": {},
     "nuid": "9a626959-61c8-4bba-84d2-2a4ecab1f7ec",
     "showTitle": false,
     "title": ""
    }
   },
   "source": [
    "# Turbine Pipeline"
   ]
  },
  {
   "cell_type": "code",
   "execution_count": 0,
   "metadata": {
    "application/vnd.databricks.v1+cell": {
     "cellMetadata": {},
     "inputWidgets": {},
     "nuid": "9198e987-5606-403d-9f6d-8f14e6a4017f",
     "showTitle": false,
     "title": ""
    }
   },
   "outputs": [],
   "source": [
    "import sys\n",
    "\n",
    "import pyspark.sql.functions as sf\n",
    "\n",
    "import dlt\n",
    "from databricks.sdk.runtime import spark\n",
    "\n",
    "sys.path.append(spark.conf.get(\"bundle.sourcePath\", \".\"))\n",
    "from turbine_ingestion import apply_latest_filter, compute_aggregates, flag_anomalies\n",
    "\n",
    "raw_path = spark.conf.get(\"raw_turbine_data_path\")"
   ]
  },
  {
   "cell_type": "code",
   "execution_count": null,
   "metadata": {},
   "outputs": [],
   "source": [
    "dlt.create_streaming_table(\"bronze\", comment=\"Bronze level turbine data\")\n",
    "\n",
    "\n",
    "@dlt.append_flow(target=\"bronze\", name=\"turbines_bronze_ingest_flow\")\n",
    "def turbine_bronze_ingest_flow():\n",
    "    return (\n",
    "        spark.readStream.format(\"cloudFiles\")\n",
    "        .option(\"cloudFiles.format\", \"csv\")\n",
    "        .option(\"cloudFiles.inferColumnTypes\", \"true\")\n",
    "        .option(\n",
    "            \"cloudFiles.allowOverwrites\", \"true\"\n",
    "        )  # This setting allows for modifications in files\n",
    "        .load(raw_path)\n",
    "        .withColumn(\"file_modification_time\", sf.expr(\"_metadata.file_modification_time\"))\n",
    "        .withColumn(\"file_name\", sf.expr(\"_metadata.file_name\"))\n",
    "    )"
   ]
  },
  {
   "cell_type": "code",
   "execution_count": null,
   "metadata": {},
   "outputs": [],
   "source": [
    "dlt.create_streaming_table(\n",
    "    name=\"silver\",\n",
    "    expect_all_or_drop={\n",
    "        \"no_rescued_data\": \"_rescued_data IS NULL\",\n",
    "        \"valid_turbine_id\": \"turbine_id IS NOT NULL\",\n",
    "        \"valid_power_output\": \"power_output IS NOT NULL\",\n",
    "    },\n",
    ")\n",
    "\n",
    "\n",
    "# Silver data with\n",
    "@dlt.append_flow(target=\"silver\", name=\"turbines_silver_clean_flow\")\n",
    "def turbines_silver_clean_flow():\n",
    "    return dlt.read_stream(\"bronze\")"
   ]
  },
  {
   "cell_type": "code",
   "execution_count": null,
   "metadata": {},
   "outputs": [],
   "source": [
    "# Summary Statistics for turbines by day\n",
    "@dlt.table(name=\"gold_daily_aggregates\")\n",
    "def gold_daily_aggregates():\n",
    "    return (\n",
    "        spark.table(\"silver\")\n",
    "        .transform(apply_latest_filter)\n",
    "        .transform(lambda df: compute_aggregates(df, \"DAY\"))\n",
    "    )"
   ]
  },
  {
   "cell_type": "code",
   "execution_count": null,
   "metadata": {},
   "outputs": [],
   "source": [
    "# Summary Statistics for turbines by hour\n",
    "@dlt.table(name=\"gold_hourly_aggregates\")\n",
    "def gold_hourly_aggregates():\n",
    "    return (\n",
    "        spark.table(\"silver\")\n",
    "        .transform(apply_latest_filter)\n",
    "        .transform(lambda df: compute_aggregates(df, \"HOUR\"))\n",
    "    )"
   ]
  },
  {
   "cell_type": "code",
   "execution_count": null,
   "metadata": {},
   "outputs": [],
   "source": [
    "@dlt.view\n",
    "def silver_joined():\n",
    "    return dlt.read_stream(\"silver\").transform(\n",
    "        lambda df: flag_anomalies(df, spark.table(\"gold_hourly_aggregates\"))\n",
    "    )\n",
    "\n",
    "\n",
    "dlt.create_streaming_table(\n",
    "    name=\"silver_enriched\",\n",
    ")\n",
    "\n",
    "\n",
    "# Deduplicated and anomalies flagged\n",
    "dlt.create_auto_cdc_flow(\n",
    "    name=\"turbines_enriched_silver_flow\",\n",
    "    target=\"silver_enriched\",\n",
    "    source=\"silver_joined\",\n",
    "    keys=[\"turbine_id\", \"timestamp\"],\n",
    "    sequence_by=\"file_modification_time\",\n",
    "    column_list=[\n",
    "        \"timestamp\",\n",
    "        \"turbine_id\",\n",
    "        \"wind_speed\",\n",
    "        \"wind_direction\",\n",
    "        \"power_output\",\n",
    "        \"file_modification_time\",\n",
    "        \"is_anomaly\",\n",
    "    ],\n",
    "    stored_as_scd_type=1,\n",
    ")"
   ]
  }
 ],
 "metadata": {
  "application/vnd.databricks.v1+notebook": {
   "dashboards": [],
   "language": "python",
   "notebookMetadata": {
    "pythonIndentUnit": 2
   },
   "notebookName": "dlt_pipeline",
   "widgets": {}
  },
  "kernelspec": {
   "display_name": "Python 3",
   "language": "python",
   "name": "python3"
  },
  "language_info": {
   "name": "python",
   "version": "3.11.4"
  }
 },
 "nbformat": 4,
 "nbformat_minor": 0
}
